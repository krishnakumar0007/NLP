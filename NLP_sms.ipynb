{
  "nbformat": 4,
  "nbformat_minor": 0,
  "metadata": {
    "colab": {
      "private_outputs": true,
      "provenance": [],
      "mount_file_id": "1bVWWrKZVLkjALbUIMZeYmIdtUUX5B8GL",
      "authorship_tag": "ABX9TyMfNmDpl58dp7hfWC4OfWoW",
      "include_colab_link": true
    },
    "kernelspec": {
      "name": "python3",
      "display_name": "Python 3"
    },
    "language_info": {
      "name": "python"
    }
  },
  "cells": [
    {
      "cell_type": "markdown",
      "metadata": {
        "id": "view-in-github",
        "colab_type": "text"
      },
      "source": [
        "<a href=\"https://colab.research.google.com/github/krishnakumar0007/NLP/blob/main/NLP_sms.ipynb\" target=\"_parent\"><img src=\"https://colab.research.google.com/assets/colab-badge.svg\" alt=\"Open In Colab\"/></a>"
      ]
    },
    {
      "cell_type": "code",
      "execution_count": null,
      "metadata": {
        "id": "Wy0kYIbr1SN3"
      },
      "outputs": [],
      "source": [
        "import pandas as pd\n",
        "df1 = pd.read_csv('/content/drive/MyDrive/datasets/SMS_train.csv',encoding='ISO-8859-1')\n",
        "df1"
      ]
    },
    {
      "cell_type": "code",
      "source": [
        "df2 = pd.read_csv('/content/drive/MyDrive/datasets/SMS_test.csv',encoding='ISO-8859-1')\n",
        "df2"
      ],
      "metadata": {
        "id": "jC-c-My02TlB"
      },
      "execution_count": null,
      "outputs": []
    },
    {
      "cell_type": "code",
      "source": [
        "df = pd.concat([df1,df2],ignore_index=True)\n",
        "df"
      ],
      "metadata": {
        "id": "D4fGNUB04Sax"
      },
      "execution_count": null,
      "outputs": []
    },
    {
      "cell_type": "code",
      "source": [
        "df.drop('S. No.',inplace=True,axis=1)"
      ],
      "metadata": {
        "id": "Lx0-tRV45MjP"
      },
      "execution_count": null,
      "outputs": []
    },
    {
      "cell_type": "code",
      "source": [
        "df"
      ],
      "metadata": {
        "id": "Byi9F41F5gJ6"
      },
      "execution_count": null,
      "outputs": []
    },
    {
      "cell_type": "code",
      "source": [
        "import seaborn as sns\n",
        "sns.countplot(x='Label',data=df)"
      ],
      "metadata": {
        "id": "RDzLmIVc5ln9"
      },
      "execution_count": null,
      "outputs": []
    },
    {
      "cell_type": "code",
      "source": [
        "from sklearn.preprocessing import LabelEncoder\n",
        "\n",
        "le = LabelEncoder()\n",
        "df['Label'] = le.fit_transform(df['Label'])"
      ],
      "metadata": {
        "id": "5wqKNsVh6QrB"
      },
      "execution_count": null,
      "outputs": []
    },
    {
      "cell_type": "code",
      "source": [
        "df"
      ],
      "metadata": {
        "id": "oFIDxvc_7Bri"
      },
      "execution_count": null,
      "outputs": []
    },
    {
      "cell_type": "code",
      "source": [
        "tweets = df.Message_body\n",
        "tweets"
      ],
      "metadata": {
        "id": "5Pah2afc7T-b"
      },
      "execution_count": null,
      "outputs": []
    },
    {
      "cell_type": "code",
      "source": [
        "tweets = tweets.str.replace('[^a-zA-Z0-9]+',' ')\n",
        "tweets"
      ],
      "metadata": {
        "id": "egQotG858JB7"
      },
      "execution_count": null,
      "outputs": []
    },
    {
      "cell_type": "code",
      "source": [
        "from nltk.stem import SnowballStemmer\n",
        "stemmer = SnowballStemmer('english')"
      ],
      "metadata": {
        "id": "pIAbV65x8tXg"
      },
      "execution_count": null,
      "outputs": []
    },
    {
      "cell_type": "code",
      "source": [
        "from nltk import TweetTokenizer\n",
        "tk = TweetTokenizer()"
      ],
      "metadata": {
        "id": "A7b4-S__9Grs"
      },
      "execution_count": null,
      "outputs": []
    },
    {
      "cell_type": "code",
      "source": [
        "\n",
        "tweets = tweets.apply(lambda x : [stemmer.stem(token.lower ())for token in tk.tokenize(x)]).apply(lambda token:' '.join(token))\n",
        "tweets"
      ],
      "metadata": {
        "id": "N-NoeTCb9TwF"
      },
      "execution_count": null,
      "outputs": []
    },
    {
      "cell_type": "code",
      "source": [
        "from nltk.corpus import stopwords\n",
        "import nltk\n",
        "nltk.download('stopwords')\n",
        "sw = stopwords.words('english')\n",
        "sw"
      ],
      "metadata": {
        "id": "7bdkhNZd-y48"
      },
      "execution_count": null,
      "outputs": []
    },
    {
      "cell_type": "code",
      "source": [
        "tweets = tweets.apply(lambda x : [token for token in tk.tokenize(x) if token not in sw]).apply(lambda token:' '.join(token))\n",
        "tweets"
      ],
      "metadata": {
        "id": "0CC9A-74_kPa"
      },
      "execution_count": null,
      "outputs": []
    },
    {
      "cell_type": "code",
      "source": [
        "from numpy.lib.function_base import vectorize\n",
        "from sklearn.feature_extraction.text import TfidfVectorizer\n",
        "vectorizer = TfidfVectorizer()\n",
        "X = vectorizer.fit_transform(tweets)\n",
        "print(X)"
      ],
      "metadata": {
        "id": "i0ZM4FEb_unD"
      },
      "execution_count": null,
      "outputs": []
    },
    {
      "cell_type": "markdown",
      "source": [],
      "metadata": {
        "id": "M_LMol7B-Cf7"
      }
    },
    {
      "cell_type": "code",
      "source": [
        "y = df['Label'].values\n",
        "y"
      ],
      "metadata": {
        "id": "faVoWsZCAqer"
      },
      "execution_count": null,
      "outputs": []
    },
    {
      "cell_type": "code",
      "source": [
        "from sklearn.model_selection import train_test_split\n",
        "X_train,X_test,y_train,y_test = train_test_split(X,y,test_size=0.3,random_state=1)"
      ],
      "metadata": {
        "id": "MXh2JNbJCEW_"
      },
      "execution_count": null,
      "outputs": []
    },
    {
      "cell_type": "code",
      "source": [
        "from sklearn.neighbors import KNeighborsClassifier\n",
        "from sklearn.ensemble import AdaBoostClassifier\n",
        "from sklearn.svm import SVC\n",
        "from sklearn.ensemble import RandomForestClassifier"
      ],
      "metadata": {
        "id": "RMdIkzG-CIFz"
      },
      "execution_count": null,
      "outputs": []
    },
    {
      "cell_type": "code",
      "source": [
        "knn = KNeighborsClassifier()\n",
        "abc = AdaBoostClassifier()\n",
        "sv = SVC()\n",
        "rfc = RandomForestClassifier()"
      ],
      "metadata": {
        "id": "HgrDzctLCMKj"
      },
      "execution_count": null,
      "outputs": []
    },
    {
      "cell_type": "code",
      "source": [
        "from sklearn.metrics import classification_report"
      ],
      "metadata": {
        "id": "BrGYsXTdCQFK"
      },
      "execution_count": null,
      "outputs": []
    },
    {
      "cell_type": "code",
      "source": [
        "lis = [knn,abc,sv,rfc]\n",
        "for i in lis:\n",
        "  print('**************',i,'*****************')\n",
        "  i.fit(X_train,y_train)\n",
        "  y_pred = i.predict(X_test)\n",
        "  print(classification_report(y_test,y_pred))"
      ],
      "metadata": {
        "id": "0e4d48yiCUwO"
      },
      "execution_count": null,
      "outputs": []
    },
    {
      "cell_type": "code",
      "source": [
        "y_new = sv.predict(vectorizer.transform(['7 wonders in My WORLD 7th You 6th Ur style 5th']))\n",
        "y_new"
      ],
      "metadata": {
        "id": "1zsU2S7eCmWl"
      },
      "execution_count": null,
      "outputs": []
    },
    {
      "cell_type": "code",
      "source": [
        "vectorizer.get_feature_names_out()"
      ],
      "metadata": {
        "id": "qYtFeEIcDPU3"
      },
      "execution_count": null,
      "outputs": []
    },
    {
      "cell_type": "code",
      "source": [],
      "metadata": {
        "id": "xmPwG2nWDol0"
      },
      "execution_count": null,
      "outputs": []
    }
  ]
}